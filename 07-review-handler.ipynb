{
 "cells": [
  {
   "cell_type": "code",
   "execution_count": 1,
   "id": "53f00620",
   "metadata": {},
   "outputs": [],
   "source": [
    "from langgraph.graph import StateGraph,START,END\n",
    "from typing import TypedDict,Annotated,Literal\n",
    "import os\n",
    "from langchain_google_genai import ChatGoogleGenerativeAI  \n",
    "from dotenv import load_dotenv\n",
    "from pydantic import BaseModel, Field"
   ]
  },
  {
   "cell_type": "code",
   "execution_count": 2,
   "id": "c934841c",
   "metadata": {},
   "outputs": [
    {
     "data": {
      "text/plain": [
       "True"
      ]
     },
     "execution_count": 2,
     "metadata": {},
     "output_type": "execute_result"
    }
   ],
   "source": [
    "load_dotenv()"
   ]
  },
  {
   "cell_type": "code",
   "execution_count": 3,
   "id": "f3de7602",
   "metadata": {},
   "outputs": [],
   "source": [
    "def create_llm():\n",
    "    api_key=os.getenv(\"GOOGLE_API_KEY\")\n",
    "\n",
    "    llm=ChatGoogleGenerativeAI(model=\"gemini-1.5-flash\",\n",
    "                               api_key=api_key)\n",
    "    \n",
    "    return llm"
   ]
  },
  {
   "cell_type": "code",
   "execution_count": 4,
   "id": "f2601954",
   "metadata": {},
   "outputs": [],
   "source": [
    "model=create_llm()"
   ]
  },
  {
   "cell_type": "code",
   "execution_count": 5,
   "id": "a675d282",
   "metadata": {},
   "outputs": [],
   "source": [
    "class Schema(BaseModel):\n",
    "\n",
    "    sentiment:Literal['positive','negative']=Field(description=\"sentiment of the review\")\n",
    "    "
   ]
  },
  {
   "cell_type": "code",
   "execution_count": 12,
   "id": "82a6808a",
   "metadata": {},
   "outputs": [],
   "source": [
    "class diagnosis(BaseModel):\n",
    "\n",
    "    issue_type:Literal['product','service','delivery','other']=Field(description=\"type of issue in the review\")\n",
    "    tone:Literal['angry','sad','neutral','happy']=Field(description=\"tone of the review\")\n",
    "    urgency:Literal['high','medium','low']=Field(description=\"urgency of the review\")"
   ]
  },
  {
   "cell_type": "code",
   "execution_count": 13,
   "id": "96b19021",
   "metadata": {},
   "outputs": [],
   "source": [
    "structured_model=model.with_structured_output(Schema)\n",
    "structured_model_2=model.with_structured_output(diagnosis)"
   ]
  },
  {
   "cell_type": "code",
   "execution_count": 7,
   "id": "2c37d075",
   "metadata": {},
   "outputs": [],
   "source": [
    "class reviewhandler(TypedDict):\n",
    "\n",
    "    review:str\n",
    "\n",
    "    sentiment:Literal['positive','negative']\n",
    "    diagonisis:dict\n",
    "\n",
    "    response:str"
   ]
  },
  {
   "cell_type": "code",
   "execution_count": 8,
   "id": "6e6a422b",
   "metadata": {},
   "outputs": [],
   "source": [
    "def find_sentiment(state:reviewhandler):\n",
    "\n",
    "    prompt=f\"For the Following review find the Sentiment as poitive or negative:\\n {state['review']}\"\n",
    "    sentiment=structured_model.invoke(prompt).sentiment\n",
    "\n",
    "    return {\"sentiment\":sentiment}"
   ]
  },
  {
   "cell_type": "code",
   "execution_count": 9,
   "id": "df41cb4d",
   "metadata": {},
   "outputs": [],
   "source": [
    "def condition(state:reviewhandler)->Literal[\"positive_response\",\"run_diagonisis\"]:\n",
    "    if state['sentiment']=='positive':\n",
    "        return \"positive_response\"\n",
    "    else:\n",
    "        return \"run_diagonisis\"\n",
    "    "
   ]
  },
  {
   "cell_type": "code",
   "execution_count": 14,
   "id": "52450a62",
   "metadata": {},
   "outputs": [],
   "source": [
    "def run_diagonisis(state:reviewhandler):\n",
    "\n",
    "    prompt=f\"Run the diagnosis of the Review {state['review']} and return issue_type,tone and urgency\"\n",
    "\n",
    "    diagonisis=structured_model_2.invoke(prompt)\n",
    "\n",
    "    return {\"diagonisis\":diagonisis.model_dump()}"
   ]
  },
  {
   "cell_type": "code",
   "execution_count": 15,
   "id": "dc4e4a25",
   "metadata": {},
   "outputs": [],
   "source": [
    "def negative_response(state:reviewhandler):\n",
    "\n",
    "    prompt=f\"You are a support agent. Write a empathetic response to the following negative review:\\n {state['review']}\\n The issue type is {state['diagonisis']['issue_type']}, the tone is {state['diagonisis']['tone']} and the urgency is {state['diagonisis']['urgency']}\"\n",
    "\n",
    "    response=model.invoke(prompt).content\n",
    "\n",
    "    return {'response':response}\n",
    "    "
   ]
  },
  {
   "cell_type": "code",
   "execution_count": 11,
   "id": "fd5a3343",
   "metadata": {},
   "outputs": [],
   "source": [
    "def positive_response(state:reviewhandler):\n",
    "    \n",
    "    prompt=f\"Write a positive response to the following review:\\n {state['review']}\"\n",
    "\n",
    "    response=model.invoke(prompt).content\n",
    "\n",
    "    return {'response':response}"
   ]
  },
  {
   "cell_type": "code",
   "execution_count": 17,
   "id": "faaaffe8",
   "metadata": {},
   "outputs": [],
   "source": [
    "graph=StateGraph(reviewhandler)\n",
    "\n",
    "graph.add_node(\"find_sentiment\",find_sentiment)\n",
    "graph.add_node(\"run_diagonisis\",run_diagonisis)\n",
    "graph.add_node(\"negative_response\",negative_response)\n",
    "graph.add_node(\"positive_response\",positive_response)\n",
    "\n",
    "graph.add_edge(START,\"find_sentiment\")\n",
    "graph.add_conditional_edges(\"find_sentiment\",condition)\n",
    "graph.add_edge(\"positive_response\",END)\n",
    "graph.add_edge(\"run_diagonisis\",\"negative_response\")\n",
    "graph.add_edge(\"negative_response\",END)\n",
    "\n",
    "\n",
    "workflow=graph.compile()\n"
   ]
  },
  {
   "cell_type": "code",
   "execution_count": 23,
   "id": "f7d5c66a",
   "metadata": {},
   "outputs": [
    {
     "name": "stdout",
     "output_type": "stream",
     "text": [
      "{'review': \"The product quality is terrible and the delivery was late. I'm very disappointed with my purchase.\", 'sentiment': 'negative', 'diagonisis': {'issue_type': 'product', 'tone': 'sad', 'urgency': 'low'}, 'response': \"I'm so sorry to hear about your disappointing experience with your recent purchase.  We truly appreciate you bringing this to our attention, and I understand how frustrating it must be to receive a product of poor quality and after a delayed delivery.  It's certainly not the experience we aim to provide our customers.\\n\\nCould you please tell me a little more about the specific issues you encountered with the product quality?  Knowing the details will help us understand what went wrong and prevent similar problems in the future.  Also, if you could provide your order number, it would allow me to investigate the delivery delay as well.\\n\\nWe want to make things right for you.  Depending on the specifics, we may be able to offer a replacement, a refund, or another form of compensation.  Please don't hesitate to contact us again or reply to this message with the additional information so we can start working towards a resolution. We value your business and sincerely hope to regain your trust.\"}\n"
     ]
    }
   ],
   "source": [
    "initial_state={\"review\":\"The product quality is terrible and the delivery was late. I'm very disappointed with my purchase.\"}\n",
    "\n",
    "result=workflow.invoke(initial_state)\n",
    "\n",
    "print(result)"
   ]
  },
  {
   "cell_type": "code",
   "execution_count": 18,
   "id": "3f6832f0",
   "metadata": {},
   "outputs": [
    {
     "data": {
      "image/png": "[encoded data removed]",
      "text/plain": [
       "<IPython.core.display.Image object>"
      ]
     },
     "metadata": {},
     "output_type": "display_data"
    }
   ],
   "source": [
    "from IPython.display import Image, display\n",
    "\n",
    "try:\n",
    "    display(Image(workflow.get_graph().draw_mermaid_png()))\n",
    "except Exception:\n",
    "    # This requires some extra dependencies and is optional\n",
    "    pass"
   ]
  },
  {
   "cell_type": "code",
   "execution_count": null,
   "id": "35ec91b8",
   "metadata": {},
   "outputs": [],
   "source": []
  }
 ],
 "metadata": {
  "kernelspec": {
   "display_name": "langgrapgenv",
   "language": "python",
   "name": "python3"
  },
  "language_info": {
   "codemirror_mode": {
    "name": "ipython",
    "version": 3
   },
   "file_extension": ".py",
   "mimetype": "text/x-python",
   "name": "python",
   "nbconvert_exporter": "python",
   "pygments_lexer": "ipython3",
   "version": "3.12.6"
  }
 },
 "nbformat": 4,
 "nbformat_minor": 5
}
