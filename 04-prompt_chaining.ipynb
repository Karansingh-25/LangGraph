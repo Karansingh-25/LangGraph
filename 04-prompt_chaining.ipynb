{
 "cells": [
  {
   "cell_type": "code",
   "execution_count": 1,
   "id": "db2acc9a",
   "metadata": {},
   "outputs": [],
   "source": [
    "from langgraph.graph import StateGraph,START,END\n",
    "from typing import TypedDict\n",
    "from dotenv import load_dotenv\n",
    "import os\n",
    "from langchain_google_genai import ChatGoogleGenerativeAI"
   ]
  },
  {
   "cell_type": "code",
   "execution_count": 2,
   "id": "abebaa9b",
   "metadata": {},
   "outputs": [
    {
     "data": {
      "text/plain": [
       "True"
      ]
     },
     "execution_count": 2,
     "metadata": {},
     "output_type": "execute_result"
    }
   ],
   "source": [
    "load_dotenv()"
   ]
  },
  {
   "cell_type": "code",
   "execution_count": 6,
   "id": "a4b305c8",
   "metadata": {},
   "outputs": [],
   "source": [
    "def create_llm():\n",
    "    api_key=os.getenv(\"GOOGlE_API_KEY\")\n",
    "    llm=ChatGoogleGenerativeAI(model=\"gemini-1.5-flash\",\n",
    "                               api_key=api_key)\n",
    "    \n",
    "    return llm"
   ]
  },
  {
   "cell_type": "code",
   "execution_count": 7,
   "id": "7de9245f",
   "metadata": {},
   "outputs": [],
   "source": [
    "model=create_llm()"
   ]
  },
  {
   "cell_type": "code",
   "execution_count": 9,
   "id": "64120f30",
   "metadata": {},
   "outputs": [
    {
     "data": {
      "text/plain": [
       "\"I don't have a name.  I am a large language model, trained by Google.\""
      ]
     },
     "execution_count": 9,
     "metadata": {},
     "output_type": "execute_result"
    }
   ],
   "source": [
    "model.invoke(\"Hello, my name is LangGraph. What is your name?\").content"
   ]
  },
  {
   "cell_type": "code",
   "execution_count": 10,
   "id": "91bfbcc0",
   "metadata": {},
   "outputs": [],
   "source": [
    "class BlogGenerator(TypedDict):\n",
    "\n",
    "    topic:str\n",
    "    outline:str\n",
    "    blog:str"
   ]
  },
  {
   "cell_type": "code",
   "execution_count": 19,
   "id": "4b07c7d4",
   "metadata": {},
   "outputs": [],
   "source": [
    "def outline_generator(state:BlogGenerator,model=model)->BlogGenerator:\n",
    "    \n",
    "    prompt=f\"Create a outline for a blog on the topic: {state['topic']}\"\n",
    "    outline=model.invoke(prompt).content\n",
    "    state['outline']=outline\n",
    "    return state"
   ]
  },
  {
   "cell_type": "code",
   "execution_count": 20,
   "id": "892750f0",
   "metadata": {},
   "outputs": [],
   "source": [
    "def blog_generator(state:BlogGenerator)->BlogGenerator:\n",
    "\n",
    "    prompt=f\"Generate a detailed blog based on the topic and outline generated.\\n topic:{state['topic']} \\n outline:{state['outline']}\"\n",
    "\n",
    "    blog=model.invoke(prompt).content\n",
    "\n",
    "    state['blog']=blog\n",
    "\n",
    "    return state"
   ]
  },
  {
   "cell_type": "code",
   "execution_count": 21,
   "id": "a6092d4c",
   "metadata": {},
   "outputs": [],
   "source": [
    "graph=StateGraph(BlogGenerator)\n",
    "\n",
    "graph.add_node(\"Outline Generator\",outline_generator)\n",
    "graph.add_node(\"bloggenerator\",blog_generator)\n",
    "\n",
    "graph.add_edge(START,\"Outline Generator\")\n",
    "graph.add_edge(\"Outline Generator\",\"bloggenerator\")\n",
    "graph.add_edge(\"bloggenerator\",END)\n",
    "\n",
    "workflow=graph.compile()"
   ]
  },
  {
   "cell_type": "code",
   "execution_count": 22,
   "id": "bacef7ec",
   "metadata": {},
   "outputs": [
    {
     "name": "stdout",
     "output_type": "stream",
     "text": [
      "## The Future of AI in Healthcare: A Revolution in Progress\n",
      "\n",
      "**I. Introduction**\n",
      "\n",
      "The World Health Organization estimates that over half the world's population lacks access to essential healthcare services.  This staggering statistic highlights a critical need for innovative solutions, and artificial intelligence (AI) is emerging as a powerful force to address this challenge.  AI, encompassing machine learning, deep learning, and natural language processing, is rapidly transforming healthcare, offering the potential to improve diagnostics, personalize treatments, and streamline operations.  This blog post will explore the exciting possibilities and significant challenges of AI in healthcare, examining its transformative potential while acknowledging the ethical considerations that must guide its development and deployment.\n",
      "\n",
      "\n",
      "**II. AI-Powered Diagnostics and Treatment**\n",
      "\n",
      "**A. Early Disease Detection:** AI is revolutionizing early disease detection through its ability to analyze medical images with incredible speed and accuracy.  Algorithms trained on vast datasets of X-rays, CT scans, and MRIs can identify subtle anomalies indicative of cancer, heart disease, and other conditions often missed by the human eye.  For example, Google’s DeepMind has developed AI systems that can detect various types of cancer with accuracy exceeding that of human radiologists in some cases.  This early detection significantly improves treatment outcomes and survival rates.\n",
      "\n",
      "**B. Personalized Medicine:**  The \"one-size-fits-all\" approach to medicine is becoming obsolete.  AI can analyze a patient's unique genetic makeup, lifestyle, medical history, and other data to create highly personalized treatment plans.  This includes predicting individual responses to drugs, minimizing adverse effects, and optimizing treatment regimens for maximum efficacy.  AI is also accelerating drug discovery and development by identifying potential drug candidates and predicting their effectiveness, dramatically reducing the time and cost associated with bringing new therapies to market.\n",
      "\n",
      "**C. Robotic Surgery:**  AI-assisted robotic surgery is transforming surgical procedures, enabling greater precision, minimally invasive techniques, and faster recovery times for patients.  Robotic systems guided by AI algorithms can perform complex surgeries with enhanced dexterity and control, resulting in smaller incisions, reduced scarring, and less post-operative pain.  While offering immense potential, the integration of AI in robotic surgery also necessitates rigorous safety protocols and ongoing monitoring to mitigate potential risks.\n",
      "\n",
      "\n",
      "**III. AI in Healthcare Operations and Administration**\n",
      "\n",
      "**A. Streamlining Administrative Tasks:**  AI is automating numerous administrative tasks, freeing up healthcare professionals to focus on patient care.  This includes automating appointment scheduling, managing medical records, processing insurance claims, and handling billing.  The efficiency gains translate to reduced administrative burdens, improved workflow, and cost savings for healthcare organizations.\n",
      "\n",
      "**B. Predictive Analytics for Resource Allocation:**  AI-powered predictive analytics can analyze patient data to forecast demand for resources such as hospital beds, staffing levels, and medical equipment.  This allows healthcare providers to optimize resource allocation, reducing wait times, improving patient flow, and enhancing overall hospital efficiency.  By anticipating surges in patient volume, AI can help prevent overcrowding and ensure timely access to care.\n",
      "\n",
      "**C. Telemedicine and Remote Patient Monitoring:** AI is powering the growth of telemedicine and remote patient monitoring, expanding access to healthcare, particularly for patients in remote areas or with limited mobility.  AI-powered virtual assistants can provide basic medical advice, schedule appointments, and remind patients to take their medication.  Remote monitoring devices equipped with AI algorithms can track vital signs and alert healthcare providers to potential problems, enabling early intervention and preventing hospital readmissions.\n",
      "\n",
      "\n",
      "**IV. Challenges and Ethical Considerations**\n",
      "\n",
      "**A. Data Privacy and Security:**  The use of AI in healthcare necessitates the handling of vast amounts of sensitive patient data.  Robust data privacy and security measures are crucial to prevent breaches and misuse of this information.  Compliance with regulations like HIPAA (in the US) and GDPR (in Europe) is paramount.\n",
      "\n",
      "**B. Algorithmic Bias and Fairness:**  AI algorithms are trained on data, and if this data reflects existing societal biases, the resulting AI systems may perpetuate and even amplify those biases, leading to unfair or inaccurate predictions.  Addressing algorithmic bias requires careful data curation, rigorous algorithm testing, and ongoing monitoring to ensure equitable access to AI-powered healthcare for all populations.\n",
      "\n",
      "**C. Job Displacement and Workforce Adaptation:**  Concerns exist about AI potentially displacing human healthcare professionals.  However, a more realistic scenario involves AI augmenting human capabilities, allowing healthcare workers to focus on tasks requiring human empathy, critical thinking, and complex decision-making.  Retraining and upskilling programs are crucial to prepare the healthcare workforce for collaboration with AI.\n",
      "\n",
      "**D. Regulatory hurdles and acceptance:** The rapid advancement of AI in healthcare necessitates a clear regulatory framework to ensure safety, efficacy, and ethical use.  Building public trust and acceptance of AI-powered healthcare technologies is also essential for successful implementation.  Clear guidelines, transparency, and robust oversight are crucial for navigating this evolving landscape.\n",
      "\n",
      "\n",
      "**V. Conclusion**\n",
      "\n",
      "AI holds immense potential to revolutionize healthcare, improving diagnostics, personalizing treatments, streamlining operations, and expanding access to care.  However, realizing this potential requires careful consideration of ethical implications, robust data security measures, and proactive efforts to address algorithmic bias and ensure equitable access.  The future of AI in healthcare hinges on collaborative efforts between researchers, clinicians, policymakers, and the public to develop and deploy AI responsibly and ethically.  We encourage readers to delve deeper into this rapidly evolving field and engage in the crucial conversations surrounding its ethical implications.\n",
      "\n",
      "\n",
      "**(Optional additions could be included here, such as images illustrating AI applications in healthcare, links to relevant research papers, or a Q&A section addressing common reader questions.)**\n"
     ]
    }
   ],
   "source": [
    "initial_state={\"topic\":\"The future of AI in healthcare\"}\n",
    "\n",
    "result=workflow.invoke(initial_state)\n",
    "\n",
    "print(result['blog'])"
   ]
  },
  {
   "cell_type": "code",
   "execution_count": 24,
   "id": "be801352",
   "metadata": {},
   "outputs": [
    {
     "name": "stdout",
     "output_type": "stream",
     "text": [
      "## Blog Outline: The Future of AI in Healthcare\n",
      "\n",
      "**I. Introduction (approx. 100 words)**\n",
      "\n",
      "* Hook: Start with a compelling statistic or anecdote showcasing AI's current impact or potential in healthcare.\n",
      "* Briefly define AI and its relevance to healthcare.\n",
      "* Thesis statement:  Preview the key areas where AI will revolutionize healthcare in the future, highlighting both the opportunities and challenges.  (e.g., \"AI is poised to transform healthcare in the coming years, offering unprecedented opportunities for improved diagnostics, personalized treatments, and streamlined operations, but also presenting ethical and practical challenges that must be addressed.\")\n",
      "\n",
      "**II. AI-Powered Diagnostics and Treatment (approx. 300 words)**\n",
      "\n",
      "* **A. Early Disease Detection:**\n",
      "    * Discuss AI's role in analyzing medical images (X-rays, CT scans, MRIs) for early detection of cancer, heart disease, etc.\n",
      "    * Mention specific examples of AI-powered diagnostic tools already in use or under development.\n",
      "    * Highlight improved accuracy and speed compared to traditional methods.\n",
      "* **B. Personalized Medicine:**\n",
      "    * Explain how AI can analyze patient data (genetics, lifestyle, medical history) to tailor treatment plans.\n",
      "    * Discuss the potential for predicting individual responses to drugs and minimizing side effects.\n",
      "    * Give examples of AI-driven drug discovery and development.\n",
      "* **C. Robotic Surgery:**\n",
      "    * Describe the increasing precision and minimally invasive nature of AI-assisted robotic surgery.\n",
      "    * Discuss benefits for patients (faster recovery, reduced scarring).\n",
      "    * Mention potential limitations and safety concerns.\n",
      "\n",
      "\n",
      "**III. AI in Healthcare Operations and Administration (approx. 200 words)**\n",
      "\n",
      "* **A. Streamlining Administrative Tasks:**\n",
      "    * Discuss AI's role in automating tasks like appointment scheduling, billing, and medical record management.\n",
      "    * Highlight improved efficiency and reduced administrative burden on healthcare professionals.\n",
      "* **B. Predictive Analytics for Resource Allocation:**\n",
      "    * Explain how AI can analyze data to predict patient needs and optimize resource allocation (staffing, beds, equipment).\n",
      "    * Discuss potential for reducing wait times and improving overall hospital efficiency.\n",
      "* **C. Telemedicine and Remote Patient Monitoring:**\n",
      "    * Describe how AI powers virtual assistants and remote monitoring devices to improve patient care accessibility.\n",
      "    * Highlight benefits for patients in remote areas or with limited mobility.\n",
      "\n",
      "\n",
      "**IV. Challenges and Ethical Considerations (approx. 200 words)**\n",
      "\n",
      "* **A. Data Privacy and Security:**\n",
      "    * Discuss the importance of protecting sensitive patient data from breaches and misuse.\n",
      "    * Mention relevant regulations and best practices.\n",
      "* **B. Algorithmic Bias and Fairness:**\n",
      "    * Explain how biases in training data can lead to unfair or inaccurate AI predictions.\n",
      "    * Discuss the importance of developing unbiased algorithms and ensuring equitable access to AI-powered healthcare.\n",
      "* **C. Job Displacement and Workforce Adaptation:**\n",
      "    * Address concerns about AI potentially replacing human healthcare professionals.\n",
      "    * Discuss the need for retraining and upskilling the healthcare workforce to work alongside AI.\n",
      "* **D. Regulatory hurdles and acceptance:**\n",
      "    * Discuss the regulatory landscape surrounding the adoption of AI in healthcare and the need for clear guidelines.\n",
      "    * Highlight the importance of building trust and public acceptance of AI-powered healthcare technologies.\n",
      "\n",
      "\n",
      "**V. Conclusion (approx. 100 words)**\n",
      "\n",
      "* Summarize the key benefits and challenges of AI in healthcare.\n",
      "* Reiterate the transformative potential of AI to improve patient outcomes and healthcare efficiency.\n",
      "* Offer a forward-looking perspective on the future of AI in healthcare, emphasizing the need for collaboration and responsible development.\n",
      "* Call to action: Encourage readers to learn more about AI in healthcare or engage in discussions about its ethical implications.\n",
      "\n",
      "\n",
      "**VI.  Optional additions:**\n",
      "\n",
      "* Include relevant images or videos to illustrate key concepts.\n",
      "* Add a section on specific AI companies or research initiatives making significant contributions to the field.\n",
      "* Include a Q&A section to address common reader questions.\n",
      "\n",
      "\n",
      "This outline provides a comprehensive structure.  The word counts are suggestions and can be adjusted based on the desired length of the blog post. Remember to cite sources appropriately.\n"
     ]
    }
   ],
   "source": [
    "print(result['outline'])"
   ]
  },
  {
   "cell_type": "code",
   "execution_count": 15,
   "id": "e034ab3f",
   "metadata": {},
   "outputs": [
    {
     "data": {
      "image/png": "[encoded data removed]",
      "text/plain": [
       "<IPython.core.display.Image object>"
      ]
     },
     "metadata": {},
     "output_type": "display_data"
    }
   ],
   "source": [
    "from IPython.display import Image, display\n",
    "\n",
    "try:\n",
    "    display(Image(workflow.get_graph().draw_mermaid_png()))\n",
    "except Exception:\n",
    "    # This requires some extra dependencies and is optional\n",
    "    pass"
   ]
  },
  {
   "cell_type": "code",
   "execution_count": null,
   "id": "ba2017d1",
   "metadata": {},
   "outputs": [],
   "source": []
  }
 ],
 "metadata": {
  "kernelspec": {
   "display_name": "langgrapgenv",
   "language": "python",
   "name": "python3"
  },
  "language_info": {
   "codemirror_mode": {
    "name": "ipython",
    "version": 3
   },
   "file_extension": ".py",
   "mimetype": "text/x-python",
   "name": "python",
   "nbconvert_exporter": "python",
   "pygments_lexer": "ipython3",
   "version": "3.12.6"
  }
 },
 "nbformat": 4,
 "nbformat_minor": 5
}
