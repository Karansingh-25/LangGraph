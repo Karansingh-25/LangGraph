{
 "cells": [
  {
   "cell_type": "code",
   "execution_count": 1,
   "id": "839ce1e2",
   "metadata": {},
   "outputs": [],
   "source": [
    "from langgraph.graph import StateGraph,START,END\n",
    "from typing import TypedDict,Annotated,Literal\n",
    "import os\n",
    "from langchain_google_genai import ChatGoogleGenerativeAI  \n",
    "from dotenv import load_dotenv\n",
    "from pydantic import BaseModel, Field\n",
    "from langchain_core.messages import HumanMessage,SystemMessage"
   ]
  },
  {
   "cell_type": "code",
   "execution_count": 2,
   "id": "5335a926",
   "metadata": {},
   "outputs": [
    {
     "data": {
      "text/plain": [
       "True"
      ]
     },
     "execution_count": 2,
     "metadata": {},
     "output_type": "execute_result"
    }
   ],
   "source": [
    "load_dotenv()"
   ]
  },
  {
   "cell_type": "code",
   "execution_count": 6,
   "id": "8afff5a0",
   "metadata": {},
   "outputs": [],
   "source": [
    "def create_llm(model):\n",
    "    api_key=os.getenv(\"GOOGLE_API_KEY\")\n",
    "\n",
    "    llm=ChatGoogleGenerativeAI(model=model,\n",
    "                               api_key=api_key)\n",
    "    \n",
    "    return llm"
   ]
  },
  {
   "cell_type": "code",
   "execution_count": 8,
   "id": "8f746f48",
   "metadata": {},
   "outputs": [],
   "source": [
    "generator_llm=create_llm(model=\"gemini-1.5-flash\")\n",
    "evaluator_llm=create_llm(model=\"gemini-2.5-flash\")\n",
    "optimizer_llm=create_llm(model=\"gemini-2.5-flash\")"
   ]
  },
  {
   "cell_type": "code",
   "execution_count": 21,
   "id": "e7556c6c",
   "metadata": {},
   "outputs": [],
   "source": [
    "class TweetState(TypedDict):\n",
    "\n",
    "    topic:str\n",
    "    tweet:str\n",
    "    evaluation:Literal['approved','need improvement']\n",
    "    feedback:str\n",
    "    iteration:int\n",
    "    max_iteration:int\n"
   ]
  },
  {
   "cell_type": "code",
   "execution_count": 24,
   "id": "440b8494",
   "metadata": {},
   "outputs": [],
   "source": [
    "class evalschema(BaseModel):\n",
    "\n",
    "    evaluation:Literal['approved','need_improvement']=Field(description=\"evaluation of the tweet\")\n",
    "    feedback:str=Field(description=\"feedback for improving the tweet\")"
   ]
  },
  {
   "cell_type": "code",
   "execution_count": 12,
   "id": "7341bd9e",
   "metadata": {},
   "outputs": [],
   "source": [
    "stuctured_evaluator_llm=evaluator_llm.with_structured_output(evalschema)"
   ]
  },
  {
   "cell_type": "code",
   "execution_count": 14,
   "id": "2fc7667a",
   "metadata": {},
   "outputs": [],
   "source": [
    "def generate_tweet(state:TweetState):\n",
    "\n",
    "    messages = [\n",
    "        SystemMessage(content=\"You are a funny and clever Twitter/X influencer.\"),\n",
    "        HumanMessage(content=f\"\"\"\n",
    "Write a short, original, and hilarious tweet on the topic: \"{state['topic']}\".\n",
    "\n",
    "Rules:\n",
    "- Do NOT use question-answer format.\n",
    "- Max 280 characters.\n",
    "- Use observational humor, irony, sarcasm, or cultural references.\n",
    "- Think in meme logic, punchlines, or relatable takes.\n",
    "- Use simple, day to day english\n",
    "\"\"\")\n",
    "    ]\n",
    "\n",
    "    response=generator_llm.invoke(messages).content\n",
    "\n",
    "    return {'tweet':response}\n",
    "\n"
   ]
  },
  {
   "cell_type": "code",
   "execution_count": 15,
   "id": "fe45c919",
   "metadata": {},
   "outputs": [],
   "source": [
    "def evaluate_tweet(state:TweetState):\n",
    "    messages = [\n",
    "    SystemMessage(content=\"You are a ruthless, no-laugh-given Twitter critic. You evaluate tweets based on humor, originality, virality, and tweet format.\"),\n",
    "    HumanMessage(content=f\"\"\"\n",
    "Evaluate the following tweet:\n",
    "\n",
    "Tweet: \"{state['tweet']}\"\n",
    "\n",
    "Use the criteria below to evaluate the tweet:\n",
    "\n",
    "1. Originality – Is this fresh, or have you seen it a hundred times before?  \n",
    "2. Humor – Did it genuinely make you smile, laugh, or chuckle?  \n",
    "3. Punchiness – Is it short, sharp, and scroll-stopping?  \n",
    "4. Virality Potential – Would people retweet or share it?  \n",
    "5. Format – Is it a well-formed tweet (not a setup-punchline joke, not a Q&A joke, and under 280 characters)?\n",
    "\n",
    "Auto-reject if:\n",
    "- It's written in question-answer format (e.g., \"Why did...\" or \"What happens when...\")\n",
    "- It exceeds 280 characters\n",
    "- It reads like a traditional setup-punchline joke\n",
    "- Dont end with generic, throwaway, or deflating lines that weaken the humor (e.g., “Masterpieces of the auntie-uncle universe” or vague summaries)\n",
    "\n",
    "### Respond ONLY in structured format:\n",
    "- evaluation: \"approved\" or \"needs_improvement\"  \n",
    "- feedback: One paragraph explaining the strengths and weaknesses \n",
    "\"\"\")\n",
    "]\n",
    "    response=stuctured_evaluator_llm.invoke(messages).content\n",
    "\n",
    "    return {'evaluation':response.evaluation,'feedback':response.feedback}\n"
   ]
  },
  {
   "cell_type": "code",
   "execution_count": 17,
   "id": "7eeadff3",
   "metadata": {},
   "outputs": [],
   "source": [
    "def optimize_tweet(state:TweetState):\n",
    "     messages = [\n",
    "        SystemMessage(content=\"You punch up tweets for virality and humor based on given feedback.\"),\n",
    "        HumanMessage(content=f\"\"\"\n",
    "Improve the tweet based on this feedback:\n",
    "\"{state['feedback']}\"\n",
    "\n",
    "Topic: \"{state['topic']}\"\n",
    "Original Tweet:\n",
    "{state['tweet']}\n",
    "\n",
    "Re-write it as a short, viral-worthy tweet. Avoid Q&A style and stay under 280 characters.\n",
    "\"\"\")\n",
    "    ]\n",
    "     response=optimizer_llm.invoke(messages).content\n",
    "     iteration=state['iteration']+1\n",
    "\n",
    "     return {'tweet':response,\n",
    "             'iteration':iteration}"
   ]
  },
  {
   "cell_type": "code",
   "execution_count": 33,
   "id": "2d5a42d6",
   "metadata": {},
   "outputs": [],
   "source": [
    "def condition(state:TweetState):\n",
    "    if state['evaluation']=='approved' or state['iteration']>=state['max_iteration']:\n",
    "        return 'approved'\n",
    "    else:\n",
    "        return 'need_improvement'"
   ]
  },
  {
   "cell_type": "code",
   "execution_count": 35,
   "id": "e991808d",
   "metadata": {},
   "outputs": [],
   "source": [
    "graph=StateGraph(TweetState)\n",
    "\n",
    "graph.add_node('generate_tweet',generate_tweet)\n",
    "graph.add_node('evaluate_tweet',evaluate_tweet)\n",
    "graph.add_node('optimize_tweet',optimize_tweet)\n",
    "# graph.add_node('approved',approved)\n",
    "\n",
    "graph.add_edge(START,'generate_tweet')\n",
    "graph.add_edge('generate_tweet','evaluate_tweet')\n",
    "graph.add_conditional_edges('evaluate_tweet',condition,{'approved':END,\"need_improvement\":'optimize_tweet'})\n",
    "graph.add_edge('optimize_tweet','evaluate_tweet')\n",
    "\n",
    "workflow=graph.compile()"
   ]
  },
  {
   "cell_type": "code",
   "execution_count": 36,
   "id": "97ff611e",
   "metadata": {},
   "outputs": [
    {
     "data": {
      "image/png": "[encoded data removed]",
      "text/plain": [
       "<IPython.core.display.Image object>"
      ]
     },
     "metadata": {},
     "output_type": "display_data"
    }
   ],
   "source": [
    "from IPython.display import Image, display\n",
    "\n",
    "try:\n",
    "    display(Image(workflow.get_graph().draw_mermaid_png()))\n",
    "except Exception:\n",
    "    # This requires some extra dependencies and is optional\n",
    "    pass\n"
   ]
  },
  {
   "cell_type": "code",
   "execution_count": null,
   "id": "db2004c6",
   "metadata": {},
   "outputs": [],
   "source": []
  }
 ],
 "metadata": {
  "kernelspec": {
   "display_name": "langgrapgenv",
   "language": "python",
   "name": "python3"
  },
  "language_info": {
   "codemirror_mode": {
    "name": "ipython",
    "version": 3
   },
   "file_extension": ".py",
   "mimetype": "text/x-python",
   "name": "python",
   "nbconvert_exporter": "python",
   "pygments_lexer": "ipython3",
   "version": "3.12.6"
  }
 },
 "nbformat": 4,
 "nbformat_minor": 5
}
