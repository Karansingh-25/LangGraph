{
 "cells": [
  {
   "cell_type": "code",
   "execution_count": 6,
   "id": "7c858f4a",
   "metadata": {},
   "outputs": [],
   "source": [
    "from langgraph.graph import StateGraph,START,END\n",
    "from typing import TypedDict\n"
   ]
  },
  {
   "cell_type": "code",
   "execution_count": 10,
   "id": "c2838043",
   "metadata": {},
   "outputs": [],
   "source": [
    "# define state\n",
    "class BMIstate(TypedDict):\n",
    "\n",
    "    weight:float\n",
    "    height:float\n",
    "    bmi:float\n",
    "\n",
    "    category:str"
   ]
  },
  {
   "cell_type": "code",
   "execution_count": 5,
   "id": "55410ca0",
   "metadata": {},
   "outputs": [],
   "source": [
    "def bmi_calculator(state:BMIstate)->BMIstate:\n",
    "\n",
    "    weight=state['weight']\n",
    "    height=state['height']\n",
    "\n",
    "    bmi=weight/(height**2)\n",
    "\n",
    "    state['bmi']=round(bmi,2)\n",
    "\n",
    "    return state\n"
   ]
  },
  {
   "cell_type": "code",
   "execution_count": 11,
   "id": "e20c3f92",
   "metadata": {},
   "outputs": [],
   "source": [
    "def categorize(state:BMIstate)->BMIstate:\n",
    "\n",
    "    bmi=state['bmi']\n",
    "\n",
    "    if bmi<18.5:\n",
    "        state['category']='Underweight'\n",
    "    elif 18.5<=bmi<24.9:\n",
    "        state['category']='Normal weight'\n",
    "    elif 25<=bmi<29.9:\n",
    "        state['category']='Overweight'\n",
    "    else:\n",
    "        state['category']='Obesity'\n",
    "\n",
    "    return state"
   ]
  },
  {
   "cell_type": "code",
   "execution_count": 12,
   "id": "fcd5bd4a",
   "metadata": {},
   "outputs": [],
   "source": [
    "# define Graph\n",
    "graph=StateGraph(BMIstate)\n",
    "\n",
    "# add nodes\n",
    "graph.add_node(\"get_bmi\",bmi_calculator)\n",
    "graph.add_node(\"categorize_bmi\",categorize)\n",
    "\n",
    "# add edges\n",
    "graph.add_edge(START,\"get_bmi\")\n",
    "graph.add_edge(\"get_bmi\",\"categorize_bmi\")\n",
    "graph.add_edge(\"categorize_bmi\",END)\n",
    "\n",
    "# compile graph\n",
    "workflow=graph.compile()\n",
    "\n",
    "\n"
   ]
  },
  {
   "cell_type": "code",
   "execution_count": 13,
   "id": "544e719c",
   "metadata": {},
   "outputs": [
    {
     "data": {
      "text/plain": [
       "{'weight': 70, 'height': 1.75, 'bmi': 22.86, 'category': 'Normal weight'}"
      ]
     },
     "execution_count": 13,
     "metadata": {},
     "output_type": "execute_result"
    }
   ],
   "source": [
    "info={\"weight\":70,\n",
    "      \"height\":1.75}\n",
    "\n",
    "workflow.invoke(info)"
   ]
  },
  {
   "cell_type": "code",
   "execution_count": 14,
   "id": "366d48c8",
   "metadata": {},
   "outputs": [
    {
     "data": {
      "image/png": "[encoded data removed]",
      "text/plain": [
       "<IPython.core.display.Image object>"
      ]
     },
     "metadata": {},
     "output_type": "display_data"
    }
   ],
   "source": [
    "from IPython.display import Image, display\n",
    "\n",
    "try:\n",
    "    display(Image(workflow.get_graph().draw_mermaid_png()))\n",
    "except Exception:\n",
    "    # This requires some extra dependencies and is optional\n",
    "    pass"
   ]
  },
  {
   "cell_type": "code",
   "execution_count": null,
   "id": "5a9071a0",
   "metadata": {},
   "outputs": [],
   "source": []
  }
 ],
 "metadata": {
  "kernelspec": {
   "display_name": "langgrapgenv",
   "language": "python",
   "name": "python3"
  },
  "language_info": {
   "codemirror_mode": {
    "name": "ipython",
    "version": 3
   },
   "file_extension": ".py",
   "mimetype": "text/x-python",
   "name": "python",
   "nbconvert_exporter": "python",
   "pygments_lexer": "ipython3",
   "version": "3.12.6"
  }
 },
 "nbformat": 4,
 "nbformat_minor": 5
}
