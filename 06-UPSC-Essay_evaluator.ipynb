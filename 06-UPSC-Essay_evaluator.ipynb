{
 "cells": [
  {
   "cell_type": "code",
   "execution_count": 22,
   "id": "22bac06b",
   "metadata": {},
   "outputs": [],
   "source": [
    "from langgraph.graph import StateGraph,START,END\n",
    "from typing import TypedDict,Annotated\n",
    "import os\n",
    "from langchain_google_genai import ChatGoogleGenerativeAI  \n",
    "from dotenv import load_dotenv\n",
    "from pydantic import BaseModel, Field\n",
    "import operator"
   ]
  },
  {
   "cell_type": "code",
   "execution_count": 9,
   "id": "9aa2095b",
   "metadata": {},
   "outputs": [
    {
     "data": {
      "text/plain": [
       "True"
      ]
     },
     "execution_count": 9,
     "metadata": {},
     "output_type": "execute_result"
    }
   ],
   "source": [
    "load_dotenv()"
   ]
  },
  {
   "cell_type": "code",
   "execution_count": 10,
   "id": "ddbe3da8",
   "metadata": {},
   "outputs": [],
   "source": [
    "def create_llm():\n",
    "    api_key=os.getenv(\"GOOGLE_API_KEY\")\n",
    "\n",
    "    llm=ChatGoogleGenerativeAI(model=\"gemini-1.5-flash\",\n",
    "                               api_key=api_key)\n",
    "    \n",
    "    return llm"
   ]
  },
  {
   "cell_type": "code",
   "execution_count": 11,
   "id": "27356bb2",
   "metadata": {},
   "outputs": [],
   "source": [
    "model=create_llm()"
   ]
  },
  {
   "cell_type": "code",
   "execution_count": 16,
   "id": "20a4d8a8",
   "metadata": {},
   "outputs": [],
   "source": [
    "class Schema(BaseModel):\n",
    "\n",
    "    feedback:str=Field(description=\"Detailed Feedback for the essay\")\n",
    "    score:int=Field(description='Score out of 10',le=10,ge=0)"
   ]
  },
  {
   "cell_type": "code",
   "execution_count": 17,
   "id": "231c9a1b",
   "metadata": {},
   "outputs": [],
   "source": [
    "structured_output=model.with_structured_output(Schema)"
   ]
  },
  {
   "cell_type": "code",
   "execution_count": 18,
   "id": "fd98879d",
   "metadata": {},
   "outputs": [],
   "source": [
    "essay=\"\"\"\n",
    "Artificial Intelligence (AI) has emerged as one of the most transformative technologies of the 21st century. Across the globe, nations are racing to harness its potential, and India is no exception. Over the past decade, India has witnessed a remarkable rise in the adoption, research, and development of AI, influencing sectors ranging from healthcare and agriculture to finance, education, and governance. This rise is not just about technological advancement, but also about redefining the country’s socio-economic landscape.\n",
    "\n",
    "Early Adoption and Government Initiatives\n",
    "\n",
    "The Indian government has recognized AI as a crucial driver of growth and innovation. In 2018, NITI Aayog launched the National Strategy for Artificial Intelligence, focusing on areas like healthcare, agriculture, education, smart cities, and mobility. Programs like Digital India and Startup India have further accelerated the adoption of AI by providing infrastructure, funding, and innovation platforms for startups and researchers. Additionally, AI is being integrated into governance through projects such as facial recognition systems, AI-powered grievance redressal platforms, and predictive analytics in policymaking.\n",
    "\n",
    "Industry and Startup Ecosystem\n",
    "\n",
    "India has become a hub for AI-driven startups, with Bengaluru, Hyderabad, and Pune emerging as major innovation centers. Companies are developing solutions in fields like fintech, edtech, and agritech, addressing India’s unique challenges. For instance, AI applications in agriculture help farmers with crop monitoring, weather prediction, and pest control, while fintech startups use AI to improve fraud detection and personalized banking services. Multinational corporations have also established AI research labs in India, tapping into the country’s vast pool of skilled engineers and data scientists.\n",
    "\n",
    "Impact on Key Sectors\n",
    "\n",
    "AI is transforming critical sectors of the Indian economy. In healthcare, AI is used for early disease detection, telemedicine, and drug discovery. In education, personalized learning platforms and AI-driven assessments are helping bridge gaps in quality and accessibility. Transportation and urban planning are benefiting from AI-based traffic management and smart city projects. Even traditional industries like manufacturing are leveraging AI-powered automation and robotics to improve efficiency.\n",
    "\n",
    "Challenges and Concerns\n",
    "\n",
    "Despite the rapid growth, challenges remain. A significant digital divide exists between urban and rural India, limiting the equitable benefits of AI. Ethical concerns such as data privacy, job displacement due to automation, and algorithmic biases also need careful consideration. Furthermore, there is a shortage of advanced AI research infrastructure and faculty, which hampers innovation compared to global leaders like the US and China.\n",
    "\n",
    "The Road Ahead\n",
    "\n",
    "For India to fully realize the potential of AI, there must be a balance between innovation and regulation. Investments in AI education, research, and digital infrastructure are essential. Collaboration between government, academia, and industry can foster sustainable AI ecosystems. With its large population, growing digital economy, and a vibrant talent base, India is well-positioned to become a global leader in responsible AI development.\n",
    "\n",
    "Conclusion\n",
    "\n",
    "The rise of AI in India is not merely a technological trend; it is a socio-economic revolution. From empowering farmers to enabling doctors and improving governance, AI has the potential to bridge gaps and accelerate inclusive growth. If India continues to embrace innovation while addressing challenges responsibly, it can transform itself into a global hub for AI, driving progress not only for its citizens but also for the world.\n",
    "\"\"\""
   ]
  },
  {
   "cell_type": "code",
   "execution_count": 20,
   "id": "164d9b51",
   "metadata": {},
   "outputs": [
    {
     "data": {
      "text/plain": [
       "8"
      ]
     },
     "execution_count": 20,
     "metadata": {},
     "output_type": "execute_result"
    }
   ],
   "source": [
    "prompt=f\"Evaluate the language Quality of the Following Essay and provide a Feedback and assign a score out of 10:\\n\\n{essay}\"\n",
    "structured_output.invoke(prompt).score"
   ]
  },
  {
   "cell_type": "code",
   "execution_count": 36,
   "id": "4df03852",
   "metadata": {},
   "outputs": [],
   "source": [
    "class UPSC(TypedDict):\n",
    "    essay:str\n",
    "    language_feedback:str\n",
    "    analysis_feedback:str\n",
    "    clarity_feedback:str\n",
    "    overall_feedback:str\n",
    "    individual_scores:Annotated[list[int],operator.add]\n",
    "    avg_score:float"
   ]
  },
  {
   "cell_type": "code",
   "execution_count": 68,
   "id": "adf580d4",
   "metadata": {},
   "outputs": [],
   "source": [
    "def evaluate_language(state:UPSC)->UPSC:\n",
    "    prompt=f\"Evaluate the language Quality of the Following Essay and provide a Feedback and assign a score out of 10:\\n\\n{state['essay']}\"\n",
    "    result=structured_output.invoke(prompt)\n",
    "    # state['language_feedback']=result.feedback\n",
    "    # state['individual_scores']=state['individual_scores'].append(result.score)\n",
    "    return {'language_feedback':result.feedback,\n",
    "            'individual_scores':[result.score]}"
   ]
  },
  {
   "cell_type": "code",
   "execution_count": 69,
   "id": "3c45054a",
   "metadata": {},
   "outputs": [],
   "source": [
    "def evaluate_analysis(state:UPSC)->UPSC:\n",
    "    prompt=f\"Evaluate the analytical Quality of the Following Essay and provide a Feedback and assign a score out of 10:\\n\\n{state['essay']}\"\n",
    "    result=structured_output.invoke(prompt)\n",
    "    # state['analysis_feedback']=result.feedback\n",
    "    # state['individual_scores']=state['individual_scores'].append(result.score)\n",
    "    return {'analysis_feedback':result.feedback,\n",
    "            'individual_scores':[result.score]}"
   ]
  },
  {
   "cell_type": "code",
   "execution_count": 70,
   "id": "321ccba5",
   "metadata": {},
   "outputs": [],
   "source": [
    "def evaluate_thoughts(state:UPSC)->UPSC:\n",
    "    prompt=f\"Evaluate the clarity of thoughts in the Following Essay and provide a Feedback and assign a score out of 10:\\n\\n{state['essay']}\"\n",
    "    result=structured_output.invoke(prompt)\n",
    "    # state['clarity_feedback']=result.feedback\n",
    "    # state['individual_scores']=state['individual_scores'].append(result.score)\n",
    "    return {'clarity_feedback':result.feedback,\n",
    "            'individual_scores':[result.score]}"
   ]
  },
  {
   "cell_type": "code",
   "execution_count": 72,
   "id": "e86ddcc7",
   "metadata": {},
   "outputs": [],
   "source": [
    "def final_evaluation(state: UPSC):\n",
    "\n",
    "    # summary feedback\n",
    "    prompt = f'Based on the following feedbacks create a summarized feedback \\n language feedback - {state[\"language_feedback\"]} \\n depth of analysis feedback - {state[\"analysis_feedback\"]} \\n clarity of thought feedback - {state[\"clarity_feedback\"]}'\n",
    "    overall_feedback = model.invoke(prompt).content\n",
    "\n",
    "    # avg calculate\n",
    "    avg_score = sum(state['individual_scores'])/len(state['individual_scores'])\n",
    "\n",
    "    return {'overall_feedback': overall_feedback, 'avg_score': avg_score}"
   ]
  },
  {
   "cell_type": "code",
   "execution_count": 73,
   "id": "32aaad55",
   "metadata": {},
   "outputs": [],
   "source": [
    "graph=StateGraph(UPSC)\n",
    "\n",
    "graph.add_node('evaluate_language',evaluate_language)\n",
    "graph.add_node('evaluate_analysis',evaluate_analysis)\n",
    "graph.add_node('evaluate_thoughts',evaluate_thoughts)\n",
    "graph.add_node('final_evaluation',final_evaluation)\n",
    "\n",
    "graph.add_edge(START,'evaluate_language')\n",
    "graph.add_edge(START,'evaluate_analysis')\n",
    "graph.add_edge(START,'evaluate_thoughts')\n",
    "graph.add_edge('evaluate_language','final_evaluation')\n",
    "graph.add_edge('evaluate_analysis','final_evaluation')\n",
    "graph.add_edge('evaluate_thoughts','final_evaluation')\n",
    "\n",
    "\n",
    "workflow=graph.compile()"
   ]
  },
  {
   "cell_type": "code",
   "execution_count": 74,
   "id": "2e4058f5",
   "metadata": {},
   "outputs": [
    {
     "name": "stdout",
     "output_type": "stream",
     "text": [
      "{'essay': '\\nArtificial Intelligence (AI) has emerged as one of the most transformative technologies of the 21st century. Across the globe, nations are racing to harness its potential, and India is no exception. Over the past decade, India has witnessed a remarkable rise in the adoption, research, and development of AI, influencing sectors ranging from healthcare and agriculture to finance, education, and governance. This rise is not just about technological advancement, but also about redefining the country’s socio-economic landscape.\\n\\nEarly Adoption and Government Initiatives\\n\\nThe Indian government has recognized AI as a crucial driver of growth and innovation. In 2018, NITI Aayog launched the National Strategy for Artificial Intelligence, focusing on areas like healthcare, agriculture, education, smart cities, and mobility. Programs like Digital India and Startup India have further accelerated the adoption of AI by providing infrastructure, funding, and innovation platforms for startups and researchers. Additionally, AI is being integrated into governance through projects such as facial recognition systems, AI-powered grievance redressal platforms, and predictive analytics in policymaking.\\n\\nIndustry and Startup Ecosystem\\n\\nIndia has become a hub for AI-driven startups, with Bengaluru, Hyderabad, and Pune emerging as major innovation centers. Companies are developing solutions in fields like fintech, edtech, and agritech, addressing India’s unique challenges. For instance, AI applications in agriculture help farmers with crop monitoring, weather prediction, and pest control, while fintech startups use AI to improve fraud detection and personalized banking services. Multinational corporations have also established AI research labs in India, tapping into the country’s vast pool of skilled engineers and data scientists.\\n\\nImpact on Key Sectors\\n\\nAI is transforming critical sectors of the Indian economy. In healthcare, AI is used for early disease detection, telemedicine, and drug discovery. In education, personalized learning platforms and AI-driven assessments are helping bridge gaps in quality and accessibility. Transportation and urban planning are benefiting from AI-based traffic management and smart city projects. Even traditional industries like manufacturing are leveraging AI-powered automation and robotics to improve efficiency.\\n\\nChallenges and Concerns\\n\\nDespite the rapid growth, challenges remain. A significant digital divide exists between urban and rural India, limiting the equitable benefits of AI. Ethical concerns such as data privacy, job displacement due to automation, and algorithmic biases also need careful consideration. Furthermore, there is a shortage of advanced AI research infrastructure and faculty, which hampers innovation compared to global leaders like the US and China.\\n\\nThe Road Ahead\\n\\nFor India to fully realize the potential of AI, there must be a balance between innovation and regulation. Investments in AI education, research, and digital infrastructure are essential. Collaboration between government, academia, and industry can foster sustainable AI ecosystems. With its large population, growing digital economy, and a vibrant talent base, India is well-positioned to become a global leader in responsible AI development.\\n\\nConclusion\\n\\nThe rise of AI in India is not merely a technological trend; it is a socio-economic revolution. From empowering farmers to enabling doctors and improving governance, AI has the potential to bridge gaps and accelerate inclusive growth. If India continues to embrace innovation while addressing challenges responsibly, it can transform itself into a global hub for AI, driving progress not only for its citizens but also for the world.\\n', 'language_feedback': 'The essay provides a comprehensive overview of the rise of AI in India, covering its adoption, impact on various sectors, challenges, and future prospects.  The structure is logical and the writing is clear and concise.  However, some sections could benefit from more specific examples to illustrate the points made. For instance, mentioning specific AI-powered applications in healthcare or agriculture would strengthen the argument.  Additionally, expanding on the ethical concerns and proposed solutions would add depth. The conclusion effectively summarizes the main points. ', 'analysis_feedback': 'The essay provides a comprehensive overview of the rise of AI in India, covering its adoption, impact on various sectors, challenges, and future prospects.  The structure is logical and well-organized, making it easy to follow.  The writing is clear and concise. However,  the analysis could be deepened by providing specific examples and data to support the claims made. For instance, quantifying the impact of AI in specific sectors with statistics would strengthen the argument.  Additionally, a more in-depth discussion of the ethical concerns and potential solutions would enhance the analytical quality. ', 'clarity_feedback': 'The essay presents a clear and structured overview of the rise of AI in India.  The points are logically organized, transitioning smoothly between sections discussing government initiatives, industry impact, challenges, and future prospects. The language is precise and avoids jargon, making the essay accessible to a broad audience.  However, some sections could benefit from more specific examples to further illustrate the points made. For instance, mentioning specific AI-powered applications in healthcare or agriculture with quantifiable results would strengthen the impact.  The conclusion effectively summarizes the main points. ', 'overall_feedback': \"The essay offers a comprehensive and well-structured overview of AI's rise in India, covering adoption, impact, challenges, and future prospects.  The writing is clear, concise, and accessible. However, to significantly improve the essay, more specific examples, data, and quantifiable results are needed to support claims and deepen the analysis, particularly regarding the impact of AI on various sectors (e.g., healthcare, agriculture) and the ethical considerations.  Expanding on proposed solutions to these ethical concerns would also add substantial value.\", 'individual_scores': [8, 8, 8], 'avg_score': 8.0}\n"
     ]
    }
   ],
   "source": [
    "initial_state={'essay':essay}\n",
    "\n",
    "result=workflow.invoke(initial_state)\n",
    "\n",
    "print(result)"
   ]
  },
  {
   "cell_type": "code",
   "execution_count": 75,
   "id": "1a40d074",
   "metadata": {},
   "outputs": [
    {
     "name": "stdout",
     "output_type": "stream",
     "text": [
      "\n",
      "Artificial Intelligence (AI) has emerged as one of the most transformative technologies of the 21st century. Across the globe, nations are racing to harness its potential, and India is no exception. Over the past decade, India has witnessed a remarkable rise in the adoption, research, and development of AI, influencing sectors ranging from healthcare and agriculture to finance, education, and governance. This rise is not just about technological advancement, but also about redefining the country’s socio-economic landscape.\n",
      "\n",
      "Early Adoption and Government Initiatives\n",
      "\n",
      "The Indian government has recognized AI as a crucial driver of growth and innovation. In 2018, NITI Aayog launched the National Strategy for Artificial Intelligence, focusing on areas like healthcare, agriculture, education, smart cities, and mobility. Programs like Digital India and Startup India have further accelerated the adoption of AI by providing infrastructure, funding, and innovation platforms for startups and researchers. Additionally, AI is being integrated into governance through projects such as facial recognition systems, AI-powered grievance redressal platforms, and predictive analytics in policymaking.\n",
      "\n",
      "Industry and Startup Ecosystem\n",
      "\n",
      "India has become a hub for AI-driven startups, with Bengaluru, Hyderabad, and Pune emerging as major innovation centers. Companies are developing solutions in fields like fintech, edtech, and agritech, addressing India’s unique challenges. For instance, AI applications in agriculture help farmers with crop monitoring, weather prediction, and pest control, while fintech startups use AI to improve fraud detection and personalized banking services. Multinational corporations have also established AI research labs in India, tapping into the country’s vast pool of skilled engineers and data scientists.\n",
      "\n",
      "Impact on Key Sectors\n",
      "\n",
      "AI is transforming critical sectors of the Indian economy. In healthcare, AI is used for early disease detection, telemedicine, and drug discovery. In education, personalized learning platforms and AI-driven assessments are helping bridge gaps in quality and accessibility. Transportation and urban planning are benefiting from AI-based traffic management and smart city projects. Even traditional industries like manufacturing are leveraging AI-powered automation and robotics to improve efficiency.\n",
      "\n",
      "Challenges and Concerns\n",
      "\n",
      "Despite the rapid growth, challenges remain. A significant digital divide exists between urban and rural India, limiting the equitable benefits of AI. Ethical concerns such as data privacy, job displacement due to automation, and algorithmic biases also need careful consideration. Furthermore, there is a shortage of advanced AI research infrastructure and faculty, which hampers innovation compared to global leaders like the US and China.\n",
      "\n",
      "The Road Ahead\n",
      "\n",
      "For India to fully realize the potential of AI, there must be a balance between innovation and regulation. Investments in AI education, research, and digital infrastructure are essential. Collaboration between government, academia, and industry can foster sustainable AI ecosystems. With its large population, growing digital economy, and a vibrant talent base, India is well-positioned to become a global leader in responsible AI development.\n",
      "\n",
      "Conclusion\n",
      "\n",
      "The rise of AI in India is not merely a technological trend; it is a socio-economic revolution. From empowering farmers to enabling doctors and improving governance, AI has the potential to bridge gaps and accelerate inclusive growth. If India continues to embrace innovation while addressing challenges responsibly, it can transform itself into a global hub for AI, driving progress not only for its citizens but also for the world.\n",
      "\n"
     ]
    }
   ],
   "source": [
    "print(result['essay'])"
   ]
  },
  {
   "cell_type": "code",
   "execution_count": 76,
   "id": "6840be20",
   "metadata": {},
   "outputs": [
    {
     "name": "stdout",
     "output_type": "stream",
     "text": [
      "[8, 8, 8]\n"
     ]
    }
   ],
   "source": [
    "print(result['individual_scores'])"
   ]
  },
  {
   "cell_type": "code",
   "execution_count": 77,
   "id": "c159a9a2",
   "metadata": {},
   "outputs": [
    {
     "name": "stdout",
     "output_type": "stream",
     "text": [
      "8.0\n"
     ]
    }
   ],
   "source": [
    "print(result['avg_score'])"
   ]
  },
  {
   "cell_type": "code",
   "execution_count": 31,
   "id": "14b08cbb",
   "metadata": {},
   "outputs": [
    {
     "data": {
      "image/png": "[encoded data removed]",
      "text/plain": [
       "<IPython.core.display.Image object>"
      ]
     },
     "metadata": {},
     "output_type": "display_data"
    }
   ],
   "source": [
    "from IPython.display import Image, display\n",
    "\n",
    "try:\n",
    "    display(Image(workflow.get_graph().draw_mermaid_png()))\n",
    "except Exception:\n",
    "    # This requires some extra dependencies and is optional\n",
    "    pass"
   ]
  },
  {
   "cell_type": "code",
   "execution_count": null,
   "id": "359b125f",
   "metadata": {},
   "outputs": [],
   "source": []
  }
 ],
 "metadata": {
  "kernelspec": {
   "display_name": "langgrapgenv",
   "language": "python",
   "name": "python3"
  },
  "language_info": {
   "codemirror_mode": {
    "name": "ipython",
    "version": 3
   },
   "file_extension": ".py",
   "mimetype": "text/x-python",
   "name": "python",
   "nbconvert_exporter": "python",
   "pygments_lexer": "ipython3",
   "version": "3.12.6"
  }
 },
 "nbformat": 4,
 "nbformat_minor": 5
}
