{
 "cells": [
  {
   "cell_type": "code",
   "execution_count": 8,
   "id": "74866dd1",
   "metadata": {},
   "outputs": [],
   "source": [
    "from langgraph.graph import StateGraph,START,END\n",
    "from langchain_core.messages import HumanMessage,SystemMessage\n",
    "from langchain_google_genai import ChatGoogleGenerativeAI  \n",
    "import os\n",
    "from dotenv import load_dotenv\n",
    "from typing import TypedDict,Annotated\n"
   ]
  },
  {
   "cell_type": "code",
   "execution_count": 3,
   "id": "72a3fdec",
   "metadata": {},
   "outputs": [
    {
     "data": {
      "text/plain": [
       "True"
      ]
     },
     "execution_count": 3,
     "metadata": {},
     "output_type": "execute_result"
    }
   ],
   "source": [
    "load_dotenv()"
   ]
  },
  {
   "cell_type": "code",
   "execution_count": 4,
   "id": "b2890b9d",
   "metadata": {},
   "outputs": [],
   "source": [
    "def create_llm():\n",
    "    api_key=os.getenv(\"GOOGLE_API_KEY\")\n",
    "\n",
    "    llm=ChatGoogleGenerativeAI(model=\"gemini-2.5-flash\",\n",
    "                               api_key=api_key)\n",
    "    \n",
    "    return llm"
   ]
  },
  {
   "cell_type": "code",
   "execution_count": 5,
   "id": "65689bf1",
   "metadata": {},
   "outputs": [],
   "source": [
    "llm=create_llm()"
   ]
  },
  {
   "cell_type": "code",
   "execution_count": 9,
   "id": "bb9e1e47",
   "metadata": {},
   "outputs": [],
   "source": [
    "from langgraph.graph.message import add_messages"
   ]
  },
  {
   "cell_type": "code",
   "execution_count": 10,
   "id": "e071eb06",
   "metadata": {},
   "outputs": [],
   "source": [
    "class ChatBot(TypedDict):\n",
    "\n",
    "    message:Annotated[list[HumanMessage],add_messages]\n",
    "\n",
    "    "
   ]
  },
  {
   "cell_type": "code",
   "execution_count": 26,
   "id": "f37a1789",
   "metadata": {},
   "outputs": [],
   "source": [
    "def chat_bot(state:ChatBot):\n",
    "\n",
    "    # message from state\n",
    "    messages=state[\"message\"]\n",
    "\n",
    "    # pass to llm\n",
    "    response=llm.invoke(messages)\n",
    "\n",
    "    # append to state\n",
    "    return {\"message\":[response]}"
   ]
  },
  {
   "cell_type": "code",
   "execution_count": 27,
   "id": "92439b64",
   "metadata": {},
   "outputs": [],
   "source": [
    "graph=StateGraph(ChatBot)\n",
    "\n",
    "graph.add_node(\"Chat_bot\",chat_bot)\n",
    "\n",
    "graph.add_edge(START,\"Chat_bot\")\n",
    "graph.add_edge(\"Chat_bot\",END)\n",
    "\n",
    "workflow=graph.compile()"
   ]
  },
  {
   "cell_type": "code",
   "execution_count": 28,
   "id": "0ed40a36",
   "metadata": {},
   "outputs": [
    {
     "data": {
      "image/png": "[encoded data removed]",
      "text/plain": [
       "<langgraph.graph.state.CompiledStateGraph object at 0x000001F3EF672150>"
      ]
     },
     "execution_count": 28,
     "metadata": {},
     "output_type": "execute_result"
    }
   ],
   "source": [
    "workflow"
   ]
  },
  {
   "cell_type": "code",
   "execution_count": 32,
   "id": "936a87d4",
   "metadata": {},
   "outputs": [
    {
     "data": {
      "text/plain": [
       "'The capital of India is **New Delhi**.'"
      ]
     },
     "execution_count": 32,
     "metadata": {},
     "output_type": "execute_result"
    }
   ],
   "source": [
    "initial_state={\n",
    "    \"message\":[HumanMessage(content=\"what is capital of India\")]\n",
    "}\n",
    "\n",
    "workflow.invoke(initial_state)['message'][-1].content"
   ]
  },
  {
   "cell_type": "code",
   "execution_count": 36,
   "id": "ff63d8b0",
   "metadata": {},
   "outputs": [
    {
     "name": "stdout",
     "output_type": "stream",
     "text": [
      "Bye\n",
      "Bot:Thank you for chatting. Goodbye!\n"
     ]
    }
   ],
   "source": [
    "while True:\n",
    "    user_input=input(\"You: \")\n",
    "    print(user_input)\n",
    "\n",
    "    if user_input.strip().lower() in ['bye','quit']:\n",
    "        print(\"Bot:Thank you for chatting. Goodbye!\")\n",
    "        break\n",
    "    else:\n",
    "        result=workflow.invoke({\"message\":[HumanMessage(content=user_input)]})['message'][-1].content\n",
    "        print(\"Bot :\",result)"
   ]
  },
  {
   "cell_type": "code",
   "execution_count": null,
   "id": "db04ecba",
   "metadata": {},
   "outputs": [],
   "source": []
  }
 ],
 "metadata": {
  "kernelspec": {
   "display_name": "langgrapgenv",
   "language": "python",
   "name": "python3"
  },
  "language_info": {
   "codemirror_mode": {
    "name": "ipython",
    "version": 3
   },
   "file_extension": ".py",
   "mimetype": "text/x-python",
   "name": "python",
   "nbconvert_exporter": "python",
   "pygments_lexer": "ipython3",
   "version": "3.12.6"
  }
 },
 "nbformat": 4,
 "nbformat_minor": 5
}
