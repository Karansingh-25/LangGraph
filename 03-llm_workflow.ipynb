{
 "cells": [
  {
   "cell_type": "code",
   "execution_count": 1,
   "id": "ce0d707b",
   "metadata": {},
   "outputs": [],
   "source": [
    "from langgraph.graph import StateGraph,START,END\n",
    "# from langchain.chat_models import init_chat_model\n",
    "from typing import TypedDict\n",
    "from dotenv import load_dotenv\n",
    "import os\n",
    "from langchain_google_genai import ChatGoogleGenerativeAI"
   ]
  },
  {
   "cell_type": "code",
   "execution_count": 2,
   "id": "f0718eb5",
   "metadata": {},
   "outputs": [
    {
     "data": {
      "text/plain": [
       "True"
      ]
     },
     "execution_count": 2,
     "metadata": {},
     "output_type": "execute_result"
    }
   ],
   "source": [
    "load_dotenv()"
   ]
  },
  {
   "cell_type": "code",
   "execution_count": 3,
   "id": "f0f9d5d3",
   "metadata": {},
   "outputs": [],
   "source": [
    "def create_llm():\n",
    "    \"\"\"Create and configure the Gemini LLM.\"\"\"\n",
    "    api_key = os.getenv(\"GOOGLE_API_KEY\")\n",
    "    if not api_key:\n",
    "        raise ValueError(\"GOOGLE_API_KEY environment variable is not set\")\n",
    "    \n",
    "    llm = ChatGoogleGenerativeAI(\n",
    "        model=\"gemini-1.5-flash\",  # Using the more accessible model\n",
    "        temperature=0.7,  # Controls creativity (0.0 = deterministic, 1.0 = very creative)\n",
    "        google_api_key=api_key,\n",
    "        convert_system_message_to_human=True  # Helps with compatibility\n",
    "    )\n",
    "    return llm"
   ]
  },
  {
   "cell_type": "code",
   "execution_count": 4,
   "id": "29aef0d1",
   "metadata": {},
   "outputs": [],
   "source": [
    "model = create_llm()"
   ]
  },
  {
   "cell_type": "code",
   "execution_count": 11,
   "id": "aaa4b004",
   "metadata": {},
   "outputs": [
    {
     "name": "stderr",
     "output_type": "stream",
     "text": [
      "c:\\Users\\karan\\OneDrive - Nitte Meenakshi Institute Of Technology\\LangGraph_tutorial\\langgrapgenv\\Lib\\site-packages\\langchain_google_genai\\chat_models.py:499: UserWarning: Convert_system_message_to_human will be deprecated!\n",
      "  warnings.warn(\"Convert_system_message_to_human will be deprecated!\")\n"
     ]
    },
    {
     "data": {
      "text/plain": [
       "'Hello there! How can I help you today?'"
      ]
     },
     "execution_count": 11,
     "metadata": {},
     "output_type": "execute_result"
    }
   ],
   "source": [
    "model.invoke(\"hello\").content"
   ]
  },
  {
   "cell_type": "code",
   "execution_count": 5,
   "id": "ba4d2353",
   "metadata": {},
   "outputs": [],
   "source": [
    "# create state\n",
    "\n",
    "class inpdata(TypedDict):\n",
    "    ques:str\n",
    "    ans:str"
   ]
  },
  {
   "cell_type": "code",
   "execution_count": 21,
   "id": "63f48fdb",
   "metadata": {},
   "outputs": [],
   "source": [
    "def questionbot(state:inpdata)->inpdata:\n",
    "\n",
    "    # Extract question\n",
    "    ques=state['ques']\n",
    "\n",
    "    # create prompt\n",
    "    prompt=f\"Answer the question in a concise manner.{ques}\"\n",
    "\n",
    "    # get response from model\n",
    "    answer=model.invoke(prompt).content\n",
    "\n",
    "    # update answer in state\n",
    "    state['ans']=answer\n",
    "\n",
    "    return state\n",
    "\n",
    "    "
   ]
  },
  {
   "cell_type": "code",
   "execution_count": 22,
   "id": "380faa1e",
   "metadata": {},
   "outputs": [],
   "source": [
    "# create StateGraph\n",
    "graph = StateGraph(inpdata)\n",
    "\n",
    "# add nodes\n",
    "graph.add_node(\"Q&A Bot\",questionbot)\n",
    "\n",
    "# add edges\n",
    "graph.add_edge(START,\"Q&A Bot\")\n",
    "graph.add_edge(\"Q&A Bot\",END)\n",
    "\n",
    "workflow=graph.compile()"
   ]
  },
  {
   "cell_type": "code",
   "execution_count": 25,
   "id": "32c6f3a4",
   "metadata": {},
   "outputs": [
    {
     "name": "stderr",
     "output_type": "stream",
     "text": [
      "c:\\Users\\karan\\OneDrive - Nitte Meenakshi Institute Of Technology\\LangGraph_tutorial\\langgrapgenv\\Lib\\site-packages\\langchain_google_genai\\chat_models.py:499: UserWarning: Convert_system_message_to_human will be deprecated!\n",
      "  warnings.warn(\"Convert_system_message_to_human will be deprecated!\")\n"
     ]
    },
    {
     "name": "stdout",
     "output_type": "stream",
     "text": [
      "\"To\" is a preposition (e.g., \"to the store\") or part of an infinitive verb (e.g., \"to run\").  \"Two\" is a number (2).\n"
     ]
    }
   ],
   "source": [
    "# Execute the workflow with an initial question\n",
    "initial_state={'ques':\"What is the Difference between to and two ?\"}\n",
    "\n",
    "final_state=workflow.invoke(initial_state)\n",
    "\n",
    "print(final_state['ans'])"
   ]
  },
  {
   "cell_type": "code",
   "execution_count": 19,
   "id": "78b4f928",
   "metadata": {},
   "outputs": [
    {
     "data": {
      "image/png": "[encoded data removed]",
      "text/plain": [
       "<IPython.core.display.Image object>"
      ]
     },
     "metadata": {},
     "output_type": "display_data"
    }
   ],
   "source": [
    "from IPython.display import Image, display\n",
    "\n",
    "try:\n",
    "    display(Image(workflow.get_graph().draw_mermaid_png()))\n",
    "except Exception:\n",
    "    # This requires some extra dependencies and is optional\n",
    "    pass"
   ]
  },
  {
   "cell_type": "code",
   "execution_count": null,
   "id": "03bbeb6c",
   "metadata": {},
   "outputs": [],
   "source": []
  }
 ],
 "metadata": {
  "kernelspec": {
   "display_name": "langgrapgenv",
   "language": "python",
   "name": "python3"
  },
  "language_info": {
   "codemirror_mode": {
    "name": "ipython",
    "version": 3
   },
   "file_extension": ".py",
   "mimetype": "text/x-python",
   "name": "python",
   "nbconvert_exporter": "python",
   "pygments_lexer": "ipython3",
   "version": "3.12.6"
  }
 },
 "nbformat": 4,
 "nbformat_minor": 5
}
