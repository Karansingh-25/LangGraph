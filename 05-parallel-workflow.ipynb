{
 "cells": [
  {
   "cell_type": "code",
   "execution_count": 7,
   "id": "1315131c",
   "metadata": {},
   "outputs": [],
   "source": [
    "from langgraph.graph import StateGraph,START,END\n",
    "from typing import TypedDict"
   ]
  },
  {
   "cell_type": "code",
   "execution_count": 8,
   "id": "d42db770",
   "metadata": {},
   "outputs": [],
   "source": [
    "class batsman(TypedDict):\n",
    "\n",
    "    runs: int\n",
    "    balls: int\n",
    "    fours: int\n",
    "    sixes: int  \n",
    "\n",
    "    sr:float\n",
    "    bpb:float\n",
    "    boundry_percent:float\n",
    "    summary:str"
   ]
  },
  {
   "cell_type": "code",
   "execution_count": 17,
   "id": "f9a329a3",
   "metadata": {},
   "outputs": [],
   "source": [
    "def strike_rate(state:batsman)->batsman:\n",
    "    prompt=f\"calculate strike rate of a batsman who scored {state['runs']} runs in {state['balls']} balls\"\n",
    "\n",
    "    sr=state['runs']/state['balls']*100\n",
    "    state['sr']=sr\n",
    "\n",
    "    return {'sr':sr}"
   ]
  },
  {
   "cell_type": "code",
   "execution_count": 18,
   "id": "8c5fc812",
   "metadata": {},
   "outputs": [],
   "source": [
    "def boundry_percentage(state:batsman)->batsman:\n",
    "    prompt=f\"Calculate the boundry percentage of a batsman who scored {state['runs']} and hit {state['fours']} fours and {state['sixes']} sixes\"\n",
    "\n",
    "    boundry_percentage=(state['fours']*4 + state['sixes']*6)/state['runs']*100\n",
    "    state['boundry_percent']=boundry_percentage\n",
    "\n",
    "    return {'boundry_percent':boundry_percentage}"
   ]
  },
  {
   "cell_type": "code",
   "execution_count": 19,
   "id": "c929e237",
   "metadata": {},
   "outputs": [],
   "source": [
    "def balls_per_boundry(state:batsman)->batsman:\n",
    "    prompt=f\"Calculate the balls per boundry of a batsman who faced {state['balls']} balls and hit {state['fours']} fours and {state['sixes']} sixes\"\n",
    "\n",
    "    total_boundries=state['fours']+state['sixes']\n",
    "    bpb=state['balls']/total_boundries\n",
    "    state['bpb']=bpb\n",
    "\n",
    "    return {'bpb':bpb}"
   ]
  },
  {
   "cell_type": "code",
   "execution_count": 20,
   "id": "ce0f89b1",
   "metadata": {},
   "outputs": [],
   "source": [
    "def Summarize(state:batsman)->str:\n",
    "   \n",
    "\n",
    "    summary=f\"The batsman scored {state['runs']} runs in {state['balls']} balls with a strike rate of {state['sr']:.2f}, boundry percentage of {state['boundry_percent']:.2f} and balls per boundry of {state['bpb']:.2f}\"\n",
    "\n",
    "    state['summary']=summary\n",
    "\n",
    "    return {'summary':summary}"
   ]
  },
  {
   "cell_type": "code",
   "execution_count": 21,
   "id": "d7a0bdba",
   "metadata": {},
   "outputs": [
    {
     "data": {
      "text/plain": [
       "<langgraph.graph.state.StateGraph at 0x16243d07ec0>"
      ]
     },
     "execution_count": 21,
     "metadata": {},
     "output_type": "execute_result"
    }
   ],
   "source": [
    "graph=StateGraph(batsman)\n",
    "\n",
    "graph.add_node(\"strike_rate\",strike_rate)\n",
    "graph.add_node(\"boundry_percentage\",boundry_percentage)\n",
    "graph.add_node(\"balls_per_boundry\",balls_per_boundry)\n",
    "graph.add_node(\"Summarize\",Summarize)\n",
    "\n",
    "graph.add_edge(START,\"strike_rate\")\n",
    "graph.add_edge(\"strike_rate\",\"Summarize\")\n",
    "graph.add_edge(START,\"boundry_percentage\")\n",
    "graph.add_edge(\"boundry_percentage\",\"Summarize\")\n",
    "graph.add_edge(START,\"balls_per_boundry\")\n",
    "graph.add_edge(\"balls_per_boundry\",\"Summarize\")\n",
    "graph.add_edge(\"Summarize\",END)\n"
   ]
  },
  {
   "cell_type": "code",
   "execution_count": 22,
   "id": "2ab88680",
   "metadata": {},
   "outputs": [],
   "source": [
    "workflow=graph.compile()"
   ]
  },
  {
   "cell_type": "code",
   "execution_count": 24,
   "id": "7c5dece3",
   "metadata": {},
   "outputs": [
    {
     "name": "stdout",
     "output_type": "stream",
     "text": [
      "The batsman scored 150 runs in 113 balls with a strike rate of 132.74, boundry percentage of 61.33 and balls per boundry of 5.95\n"
     ]
    }
   ],
   "source": [
    "initial_state={'runs':150,\n",
    "               'balls':113,\n",
    "               'fours':11,\n",
    "               'sixes':8}\n",
    "\n",
    "result=workflow.invoke(initial_state)\n",
    "\n",
    "print(result['summary'])"
   ]
  },
  {
   "cell_type": "code",
   "execution_count": 13,
   "id": "64836baf",
   "metadata": {},
   "outputs": [
    {
     "data": {
      "image/png": "[encoded data removed]",
      "text/plain": [
       "<IPython.core.display.Image object>"
      ]
     },
     "metadata": {},
     "output_type": "display_data"
    }
   ],
   "source": [
    "from IPython.display import Image, display\n",
    "\n",
    "try:\n",
    "    display(Image(workflow.get_graph().draw_mermaid_png()))\n",
    "except Exception:\n",
    "    # This requires some extra dependencies and is optional\n",
    "    pass"
   ]
  },
  {
   "cell_type": "code",
   "execution_count": null,
   "id": "ab55c3b4",
   "metadata": {},
   "outputs": [],
   "source": []
  }
 ],
 "metadata": {
  "kernelspec": {
   "display_name": "langgrapgenv",
   "language": "python",
   "name": "python3"
  },
  "language_info": {
   "codemirror_mode": {
    "name": "ipython",
    "version": 3
   },
   "file_extension": ".py",
   "mimetype": "text/x-python",
   "name": "python",
   "nbconvert_exporter": "python",
   "pygments_lexer": "ipython3",
   "version": "3.12.6"
  }
 },
 "nbformat": 4,
 "nbformat_minor": 5
}
